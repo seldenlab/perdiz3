{
 "cells": [
  {
   "cell_type": "markdown",
   "metadata": {
    "collapsed": true,
    "pycharm": {
     "name": "#%% md\n"
    }
   },
   "source": [
    "# Support Vector Machine: Predicting community membership of Perdiz arrow points"
   ]
  },
  {
   "cell_type": "code",
   "execution_count": 1,
   "outputs": [
    {
     "data": {
      "text/plain": "  spec    site region   maxl   maxw  maxth  maxstl  maxstw\n0  554  41cp12  north  25.40  12.18   3.82    5.75    3.84\n1  555  41cp12  north  22.92  12.87   3.54    3.71    3.69\n2  556  41cp12  north  24.09  11.87   3.61    5.15    4.78\n3  559  41cp12  north  25.01  10.57   3.50    5.84    3.88\n4  562  41cp12  north  22.10  10.45   3.47    3.77    3.43",
      "text/html": "<div>\n<style scoped>\n    .dataframe tbody tr th:only-of-type {\n        vertical-align: middle;\n    }\n\n    .dataframe tbody tr th {\n        vertical-align: top;\n    }\n\n    .dataframe thead th {\n        text-align: right;\n    }\n</style>\n<table border=\"1\" class=\"dataframe\">\n  <thead>\n    <tr style=\"text-align: right;\">\n      <th></th>\n      <th>spec</th>\n      <th>site</th>\n      <th>region</th>\n      <th>maxl</th>\n      <th>maxw</th>\n      <th>maxth</th>\n      <th>maxstl</th>\n      <th>maxstw</th>\n    </tr>\n  </thead>\n  <tbody>\n    <tr>\n      <th>0</th>\n      <td>554</td>\n      <td>41cp12</td>\n      <td>north</td>\n      <td>25.40</td>\n      <td>12.18</td>\n      <td>3.82</td>\n      <td>5.75</td>\n      <td>3.84</td>\n    </tr>\n    <tr>\n      <th>1</th>\n      <td>555</td>\n      <td>41cp12</td>\n      <td>north</td>\n      <td>22.92</td>\n      <td>12.87</td>\n      <td>3.54</td>\n      <td>3.71</td>\n      <td>3.69</td>\n    </tr>\n    <tr>\n      <th>2</th>\n      <td>556</td>\n      <td>41cp12</td>\n      <td>north</td>\n      <td>24.09</td>\n      <td>11.87</td>\n      <td>3.61</td>\n      <td>5.15</td>\n      <td>4.78</td>\n    </tr>\n    <tr>\n      <th>3</th>\n      <td>559</td>\n      <td>41cp12</td>\n      <td>north</td>\n      <td>25.01</td>\n      <td>10.57</td>\n      <td>3.50</td>\n      <td>5.84</td>\n      <td>3.88</td>\n    </tr>\n    <tr>\n      <th>4</th>\n      <td>562</td>\n      <td>41cp12</td>\n      <td>north</td>\n      <td>22.10</td>\n      <td>10.45</td>\n      <td>3.47</td>\n      <td>3.77</td>\n      <td>3.43</td>\n    </tr>\n  </tbody>\n</table>\n</div>"
     },
     "execution_count": 1,
     "metadata": {},
     "output_type": "execute_result"
    }
   ],
   "source": [
    "# load analysis packages\n",
    "import pandas as pd\n",
    "%matplotlib inline\n",
    "import matplotlib.pyplot as plt\n",
    "from sklearn.model_selection import train_test_split\n",
    "from sklearn.preprocessing import StandardScaler\n",
    "from sklearn.model_selection import cross_val_score\n",
    "from sklearn import svm\n",
    "from sklearn.svm import SVC\n",
    "from sklearn.model_selection import GridSearchCV\n",
    "from sklearn.pipeline import Pipeline\n",
    "from sklearn.metrics import roc_auc_score, accuracy_score\n",
    "from sklearn import metrics\n",
    "\n",
    "# read data\n",
    "data = pd.read_csv('perdizsite.csv')\n",
    "data.head()"
   ],
   "metadata": {
    "collapsed": false,
    "pycharm": {
     "name": "#%%\n"
    }
   }
  },
  {
   "cell_type": "markdown",
   "source": [
    "### select features and response"
   ],
   "metadata": {
    "collapsed": false
   }
  },
  {
   "cell_type": "code",
   "execution_count": 2,
   "outputs": [],
   "source": [
    "# attributes for analysis\n",
    "feature_cols = ['maxl', 'maxw', 'maxth', 'maxstl', 'maxstw']\n",
    "X = data[feature_cols]\n",
    "\n",
    "# cast from string to int\n",
    "reg_num = {'north':0, 'south':1}\n",
    "data['reg_num'] = data.region.map(reg_num)\n",
    "data.head()\n",
    "y = data.reg_num"
   ],
   "metadata": {
    "collapsed": false,
    "pycharm": {
     "name": "#%%\n"
    }
   }
  },
  {
   "cell_type": "markdown",
   "source": [
    "### ensure that features and responses are numeric"
   ],
   "metadata": {
    "collapsed": false
   }
  },
  {
   "cell_type": "code",
   "execution_count": 3,
   "outputs": [
    {
     "data": {
      "text/plain": "maxl      float64\nmaxw      float64\nmaxth     float64\nmaxstl    float64\nmaxstw    float64\ndtype: object"
     },
     "execution_count": 3,
     "metadata": {},
     "output_type": "execute_result"
    }
   ],
   "source": [
    "X.dtypes"
   ],
   "metadata": {
    "collapsed": false,
    "pycharm": {
     "name": "#%%\n"
    }
   }
  },
  {
   "cell_type": "code",
   "execution_count": 4,
   "outputs": [
    {
     "data": {
      "text/plain": "dtype('int64')"
     },
     "execution_count": 4,
     "metadata": {},
     "output_type": "execute_result"
    }
   ],
   "source": [
    "y.dtypes"
   ],
   "metadata": {
    "collapsed": false,
    "pycharm": {
     "name": "#%%\n"
    }
   }
  },
  {
   "cell_type": "markdown",
   "source": [
    "### split data for train/test"
   ],
   "metadata": {
    "collapsed": false
   }
  },
  {
   "cell_type": "code",
   "execution_count": 5,
   "outputs": [
    {
     "name": "stdout",
     "output_type": "stream",
     "text": [
      "X_train:  (50, 5)\n",
      "X_test:  (17, 5)\n",
      "y_train: (50,)\n",
      "y_test:  (17,)\n"
     ]
    }
   ],
   "source": [
    "# split data into train/test sets (75/25 split)\n",
    "X_train, X_test, y_train, y_test = train_test_split(X, y,\n",
    "                                                    test_size = 0.25,\n",
    "                                                    random_state = 0)\n",
    "\n",
    "print('X_train: ', X_train.shape)\n",
    "print('X_test: ', X_test.shape)\n",
    "print('y_train:', y_train.shape)\n",
    "print('y_test: ', y_test.shape)"
   ],
   "metadata": {
    "collapsed": false,
    "pycharm": {
     "name": "#%%\n"
    }
   }
  },
  {
   "cell_type": "markdown",
   "source": [
    "### decrease sensitivity of algorithm to outliers through standardizing features"
   ],
   "metadata": {
    "collapsed": false
   }
  },
  {
   "cell_type": "code",
   "execution_count": 6,
   "outputs": [],
   "source": [
    "stdsc = StandardScaler()\n",
    "X_train_std = stdsc.fit_transform(X_train)\n",
    "X_test_std = stdsc.transform(X_test)"
   ],
   "metadata": {
    "collapsed": false,
    "pycharm": {
     "name": "#%%\n"
    }
   }
  },
  {
   "cell_type": "markdown",
   "source": [
    "### create SVM classifier with linear kernel"
   ],
   "metadata": {
    "collapsed": false
   }
  },
  {
   "cell_type": "code",
   "execution_count": 7,
   "outputs": [
    {
     "data": {
      "text/plain": "SVC(kernel='linear')"
     },
     "execution_count": 7,
     "metadata": {},
     "output_type": "execute_result"
    }
   ],
   "source": [
    "clf = svm.SVC(kernel = 'linear')\n",
    "clf.fit(X_train_std, y_train)"
   ],
   "metadata": {
    "collapsed": false,
    "pycharm": {
     "name": "#%%\n"
    }
   }
  },
  {
   "cell_type": "markdown",
   "source": [
    "### grid search and nested cross validation of training dataset"
   ],
   "metadata": {
    "collapsed": false
   }
  },
  {
   "cell_type": "code",
   "execution_count": 8,
   "outputs": [
    {
     "name": "stdout",
     "output_type": "stream",
     "text": [
      "Grid Search Best Score:  0.8600000000000001\n",
      "Grid Search Best Parameters:  {'clf__C': 10.0, 'clf__kernel': 'linear'}\n",
      "Cross Validation Scores:  [0.8 1.  0.4 1.  0.8 0.8 1.  1.  0.8 1. ]\n",
      "Cross Validation Mean Score:  0.8600000000000001\n"
     ]
    }
   ],
   "source": [
    "# grid search\n",
    "pipe_svc = Pipeline([('scl', StandardScaler()), ('clf', SVC(random_state = 0))])\n",
    "param_range = [0.0001, 0.001, 0.01, 0.1, 1.0, 10.0, 100.0, 1000.0]\n",
    "param_grid = [{'clf__C': param_range,\n",
    "              'clf__kernel': ['linear']},\n",
    "             {'clf__C': param_range,\n",
    "             'clf__gamma': param_range,\n",
    "             'clf__kernel': ['rbf']}]\n",
    "gs = GridSearchCV(estimator = pipe_svc,\n",
    "                  param_grid = param_grid,\n",
    "                  scoring = 'accuracy',\n",
    "                  cv = 10,\n",
    "                  n_jobs = 1)\n",
    "gs = gs.fit(X_train_std, y_train)\n",
    "print('Grid Search Best Score: ', gs.best_score_)\n",
    "print('Grid Search Best Parameters: ', gs.best_params_)\n",
    "# use the test dataset to estimate model performance\n",
    "clf = gs.best_estimator_\n",
    "clf.fit(X_train_std, y_train)\n",
    "clf.score(X_test_std, y_test)\n",
    "\n",
    "# nested cross validation\n",
    "gs = GridSearchCV(estimator = pipe_svc,\n",
    "                 param_grid = param_grid,\n",
    "                 scoring = 'accuracy',\n",
    "                 cv = 10,\n",
    "                 n_jobs = 1)\n",
    "scores = cross_val_score(gs, X_train_std, y_train,\n",
    "                         scoring = 'accuracy',\n",
    "                         cv = 10)\n",
    "print('Cross Validation Scores: ', scores)\n",
    "print('Cross Validation Mean Score: ', scores.mean())\n"
   ],
   "metadata": {
    "collapsed": false,
    "pycharm": {
     "name": "#%%\n"
    }
   }
  },
  {
   "cell_type": "markdown",
   "source": [
    "### make predictions + evaluate accuracy"
   ],
   "metadata": {
    "collapsed": false
   }
  },
  {
   "cell_type": "code",
   "execution_count": 9,
   "outputs": [
    {
     "name": "stdout",
     "output_type": "stream",
     "text": [
      "Receiver Operator Curve Score:  0.96875\n",
      "Accuracy Score:  0.9411764705882353\n",
      "Precision:  1.0\n",
      "Recall:  0.9375\n"
     ]
    }
   ],
   "source": [
    "y_pred = clf.predict(X_test_std)\n",
    "print('Receiver Operator Curve Score: ', roc_auc_score(y_true = y_test,\n",
    "                                                       y_score = y_pred))\n",
    "print('Accuracy Score: ', accuracy_score(y_test, y_pred))\n",
    "print('Precision: ', metrics.precision_score(y_test, y_pred))\n",
    "print('Recall: ', metrics.recall_score(y_test, y_pred))"
   ],
   "metadata": {
    "collapsed": false,
    "pycharm": {
     "name": "#%%\n"
    }
   }
  },
  {
   "cell_type": "code",
   "execution_count": 10,
   "outputs": [
    {
     "data": {
      "text/plain": "<Figure size 432x288 with 1 Axes>",
      "image/png": "[encoded data removed]"
     },
     "metadata": {
      "needs_background": "light"
     },
     "output_type": "display_data"
    }
   ],
   "source": [
    "# plot ROC curve\n",
    "fpr, tpr, thresholds = metrics.roc_curve(y_test, y_pred)\n",
    "plt.plot(fpr, tpr)\n",
    "plt.xlim([0.0, 1.0])\n",
    "plt.ylim([0.0, 1.0])\n",
    "plt.title('ROC curve for Perdiz classifier')\n",
    "plt.xlabel('False Positive Rate (1 - Specificity)')\n",
    "plt.ylabel('True Positive Rate (Sensitivity)')\n",
    "plt.grid(True)\n",
    "\n",
    "\n",
    "\n"
   ],
   "metadata": {
    "collapsed": false,
    "pycharm": {
     "name": "#%%\n"
    }
   }
  }
 ],
 "metadata": {
  "kernelspec": {
   "display_name": "Python 3",
   "language": "python",
   "name": "python3"
  },
  "language_info": {
   "codemirror_mode": {
    "name": "ipython",
    "version": 2
   },
   "file_extension": ".py",
   "mimetype": "text/x-python",
   "name": "python",
   "nbconvert_exporter": "python",
   "pygments_lexer": "ipython2",
   "version": "2.7.6"
  }
 },
 "nbformat": 4,
 "nbformat_minor": 0
}